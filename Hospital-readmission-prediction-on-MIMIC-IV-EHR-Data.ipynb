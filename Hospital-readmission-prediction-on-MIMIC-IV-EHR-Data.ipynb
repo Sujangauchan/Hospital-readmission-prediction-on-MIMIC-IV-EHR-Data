{
 "cells": [
  {
   "cell_type": "code",
   "execution_count": 20,
   "id": "35848eeb-6444-4939-bd94-08b1605f17a8",
   "metadata": {},
   "outputs": [],
   "source": [
    "import pandas as pd\n",
    "import numpy as np\n",
    "import matplotlib.pyplot as plt\n",
    "from sklearn.ensemble import RandomForestClassifier\n",
    "from sklearn.model_selection import train_test_split"
   ]
  },
  {
   "cell_type": "code",
   "execution_count": 21,
   "id": "2752d1e8-a428-43f8-b39e-c998fea65a35",
   "metadata": {},
   "outputs": [],
   "source": [
    "admissions = pd.read_csv(\"/Users/sujangauchan/Desktop/MIMIC csv/mimic-iv-3.1/hosp/admissions.csv\")\n",
    "diagnoses = pd.read_csv(\"/Users/sujangauchan/Desktop/MIMIC csv/mimic-iv-3.1/hosp/d_icd_diagnoses.csv\")\n",
    "procedures = pd.read_csv(\"/Users/sujangauchan/Desktop/MIMIC csv/mimic-iv-3.1/hosp/d_icd_procedures.csv\")\n",
    "labitems =  pd.read_csv(\"/Users/sujangauchan/Desktop/MIMIC csv/mimic-iv-3.1/hosp/d_labitems.csv\")\n",
    "\n"
   ]
  },
  {
   "cell_type": "code",
   "execution_count": 22,
   "id": "cdba58a5-b05c-4330-b80f-fa6d4aff9c6b",
   "metadata": {},
   "outputs": [
    {
     "name": "stdout",
     "output_type": "stream",
     "text": [
      "   subject_id   hadm_id            admittime            dischtime deathtime  \\\n",
      "0    10000032  22595853  2180-05-06 22:23:00  2180-05-07 17:15:00       NaN   \n",
      "1    10000032  22841357  2180-06-26 18:27:00  2180-06-27 18:49:00       NaN   \n",
      "2    10000032  25742920  2180-08-05 23:44:00  2180-08-07 17:50:00       NaN   \n",
      "3    10000032  29079034  2180-07-23 12:35:00  2180-07-25 17:55:00       NaN   \n",
      "4    10000068  25022803  2160-03-03 23:16:00  2160-03-04 06:26:00       NaN   \n",
      "\n",
      "   admission_type admit_provider_id      admission_location  \\\n",
      "0          URGENT            P49AFC  TRANSFER FROM HOSPITAL   \n",
      "1        EW EMER.            P784FA          EMERGENCY ROOM   \n",
      "2        EW EMER.            P19UTS          EMERGENCY ROOM   \n",
      "3        EW EMER.            P06OTX          EMERGENCY ROOM   \n",
      "4  EU OBSERVATION            P39NWO          EMERGENCY ROOM   \n",
      "\n",
      "  discharge_location insurance language marital_status   race  \\\n",
      "0               HOME  Medicaid  English        WIDOWED  WHITE   \n",
      "1               HOME  Medicaid  English        WIDOWED  WHITE   \n",
      "2            HOSPICE  Medicaid  English        WIDOWED  WHITE   \n",
      "3               HOME  Medicaid  English        WIDOWED  WHITE   \n",
      "4                NaN       NaN  English         SINGLE  WHITE   \n",
      "\n",
      "             edregtime            edouttime  hospital_expire_flag  \n",
      "0  2180-05-06 19:17:00  2180-05-06 23:30:00                     0  \n",
      "1  2180-06-26 15:54:00  2180-06-26 21:31:00                     0  \n",
      "2  2180-08-05 20:58:00  2180-08-06 01:44:00                     0  \n",
      "3  2180-07-23 05:54:00  2180-07-23 14:00:00                     0  \n",
      "4  2160-03-03 21:55:00  2160-03-04 06:26:00                     0  \n",
      "<class 'pandas.core.frame.DataFrame'>\n",
      "RangeIndex: 546028 entries, 0 to 546027\n",
      "Data columns (total 16 columns):\n",
      " #   Column                Non-Null Count   Dtype \n",
      "---  ------                --------------   ----- \n",
      " 0   subject_id            546028 non-null  int64 \n",
      " 1   hadm_id               546028 non-null  int64 \n",
      " 2   admittime             546028 non-null  object\n",
      " 3   dischtime             546028 non-null  object\n",
      " 4   deathtime             11790 non-null   object\n",
      " 5   admission_type        546028 non-null  object\n",
      " 6   admit_provider_id     546024 non-null  object\n",
      " 7   admission_location    546027 non-null  object\n",
      " 8   discharge_location    396210 non-null  object\n",
      " 9   insurance             536673 non-null  object\n",
      " 10  language              545253 non-null  object\n",
      " 11  marital_status        532409 non-null  object\n",
      " 12  race                  546028 non-null  object\n",
      " 13  edregtime             379240 non-null  object\n",
      " 14  edouttime             379240 non-null  object\n",
      " 15  hospital_expire_flag  546028 non-null  int64 \n",
      "dtypes: int64(3), object(13)\n",
      "memory usage: 66.7+ MB\n"
     ]
    }
   ],
   "source": [
    "print(admissions.head())\n",
    "admissions.info()\n"
   ]
  },
  {
   "cell_type": "code",
   "execution_count": 23,
   "id": "785a7546-5ff9-43df-8f48-2f4a5376c2bf",
   "metadata": {},
   "outputs": [
    {
     "name": "stdout",
     "output_type": "stream",
     "text": [
      "  icd_code  icd_version                             long_title\n",
      "0     0010            9         Cholera due to vibrio cholerae\n",
      "1     0011            9  Cholera due to vibrio cholerae el tor\n",
      "2     0019            9                   Cholera, unspecified\n",
      "3     0020            9                          Typhoid fever\n",
      "4     0021            9                    Paratyphoid fever A\n",
      "<class 'pandas.core.frame.DataFrame'>\n",
      "RangeIndex: 112107 entries, 0 to 112106\n",
      "Data columns (total 3 columns):\n",
      " #   Column       Non-Null Count   Dtype \n",
      "---  ------       --------------   ----- \n",
      " 0   icd_code     112107 non-null  object\n",
      " 1   icd_version  112107 non-null  int64 \n",
      " 2   long_title   112107 non-null  object\n",
      "dtypes: int64(1), object(2)\n",
      "memory usage: 2.6+ MB\n"
     ]
    }
   ],
   "source": [
    "print(diagnoses.head())\n",
    "diagnoses.info()\n"
   ]
  },
  {
   "cell_type": "code",
   "execution_count": 24,
   "id": "e33aef47-2009-4153-a2d9-7ea8cdf7dbff",
   "metadata": {},
   "outputs": [
    {
     "name": "stdout",
     "output_type": "stream",
     "text": [
      "  icd_code  icd_version                                         long_title\n",
      "0     0001            9  Therapeutic ultrasound of vessels of head and ...\n",
      "1     0002            9                    Therapeutic ultrasound of heart\n",
      "2     0003            9  Therapeutic ultrasound of peripheral vascular ...\n",
      "3     0009            9                       Other therapeutic ultrasound\n",
      "4      001           10  Central Nervous System and Cranial Nerves, Bypass\n",
      "<class 'pandas.core.frame.DataFrame'>\n",
      "RangeIndex: 86423 entries, 0 to 86422\n",
      "Data columns (total 3 columns):\n",
      " #   Column       Non-Null Count  Dtype \n",
      "---  ------       --------------  ----- \n",
      " 0   icd_code     86423 non-null  object\n",
      " 1   icd_version  86423 non-null  int64 \n",
      " 2   long_title   86423 non-null  object\n",
      "dtypes: int64(1), object(2)\n",
      "memory usage: 2.0+ MB\n"
     ]
    }
   ],
   "source": [
    "print(procedures.head())\n",
    "procedures.info()\n"
   ]
  },
  {
   "cell_type": "code",
   "execution_count": 25,
   "id": "6944ab7c-edf8-47de-bbfd-7513dc37a22c",
   "metadata": {},
   "outputs": [
    {
     "name": "stdout",
     "output_type": "stream",
     "text": [
      "   itemid                                label  fluid   category\n",
      "0   50801           Alveolar-arterial Gradient  Blood  Blood Gas\n",
      "1   50802                          Base Excess  Blood  Blood Gas\n",
      "2   50803  Calculated Bicarbonate, Whole Blood  Blood  Blood Gas\n",
      "3   50804                 Calculated Total CO2  Blood  Blood Gas\n",
      "4   50805                    Carboxyhemoglobin  Blood  Blood Gas\n",
      "<class 'pandas.core.frame.DataFrame'>\n",
      "RangeIndex: 1650 entries, 0 to 1649\n",
      "Data columns (total 4 columns):\n",
      " #   Column    Non-Null Count  Dtype \n",
      "---  ------    --------------  ----- \n",
      " 0   itemid    1650 non-null   int64 \n",
      " 1   label     1646 non-null   object\n",
      " 2   fluid     1650 non-null   object\n",
      " 3   category  1650 non-null   object\n",
      "dtypes: int64(1), object(3)\n",
      "memory usage: 51.7+ KB\n"
     ]
    }
   ],
   "source": [
    "print(labitems.head())\n",
    "labitems.info()"
   ]
  },
  {
   "cell_type": "code",
   "execution_count": null,
   "id": "1bded1bf-0ed3-454d-b458-3757b5191bf4",
   "metadata": {},
   "outputs": [],
   "source": []
  }
 ],
 "metadata": {
  "kernelspec": {
   "display_name": "Python 3 (ipykernel)",
   "language": "python",
   "name": "python3"
  },
  "language_info": {
   "codemirror_mode": {
    "name": "ipython",
    "version": 3
   },
   "file_extension": ".py",
   "mimetype": "text/x-python",
   "name": "python",
   "nbconvert_exporter": "python",
   "pygments_lexer": "ipython3",
   "version": "3.12.7"
  }
 },
 "nbformat": 4,
 "nbformat_minor": 5
}
